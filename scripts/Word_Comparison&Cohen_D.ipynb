{
 "cells": [
  {
   "cell_type": "code",
   "execution_count": 1,
   "metadata": {},
   "outputs": [],
   "source": [
    "import numpy as np\n",
    "import pandas as pd\n",
    "import matplotlib.pyplot as plt\n",
    "%matplotlib inline  \n",
    "import matplotlib.ticker as ticker\n",
    "import urllib\n",
    "import sys\n",
    "import os\n",
    "import zipfile\n",
    "#import glove\n",
    "\n",
    "import spacy\n",
    "\n",
    "from math import sqrt\n",
    "from statistics import stdev\n",
    "import csv\n",
    "from numpy import dot\n",
    "from numpy.linalg import norm\n",
    "\n",
    "import comparison_functions\n",
    "import effect_sizes"
   ]
  },
  {
   "cell_type": "code",
   "execution_count": 2,
   "metadata": {},
   "outputs": [
    {
     "name": "stdout",
     "output_type": "stream",
     "text": [
      "2.1.3\n",
      "/Users/karie.moorman/anaconda/lib/python3.6/site-packages/spacy/__init__.py\n"
     ]
    }
   ],
   "source": [
    "import spacy\n",
    "print(spacy.__version__)  # spaCy version\n",
    "print(spacy.__file__)"
   ]
  },
  {
   "cell_type": "code",
   "execution_count": 5,
   "metadata": {},
   "outputs": [
    {
     "name": "stdout",
     "output_type": "stream",
     "text": [
      "Loading GloVe vectors: models/glove.6B.300d.txt\n"
     ]
    },
    {
     "name": "stderr",
     "output_type": "stream",
     "text": [
      "  0%|          | 229/400000 [00:00<02:55, 2278.38it/s]"
     ]
    },
    {
     "name": "stdout",
     "output_type": "stream",
     "text": [
      "Assigning 400,000 spaCy vectors\n"
     ]
    },
    {
     "name": "stderr",
     "output_type": "stream",
     "text": [
      "                                                         \r"
     ]
    },
    {
     "name": "stdout",
     "output_type": "stream",
     "text": [
      "Saving spaCy vector model: models/glove6B300d\n",
      "Done.\n"
     ]
    }
   ],
   "source": [
    "#loading word vector models into spaCy format: example below = glove.6b.300d.txt\n",
    "\n",
    "from __future__ import unicode_literals\n",
    "import numpy\n",
    "import plac\n",
    "import spacy\n",
    "import tqdm\n",
    "\n",
    "#@plac.annotations(\n",
    "#  vectors_loc=(\"location of input word vector model\", \"positional\", None, str),\n",
    "#  out_loc=(\"location of output word vector model in spacy format\", \"positional\", None, str),\n",
    "#  lang=(\"en\", \"positional\", None, str),\n",
    "#)\n",
    "\n",
    "def main(vectors_loc, out_loc, lang=None):\n",
    "  if lang is None:\n",
    "    lang = 'en'\n",
    "  nlp = spacy.blank(lang)\n",
    "  print('Loading GloVe vectors: {}'.format(vectors_loc))\n",
    "  with open(vectors_loc, 'r') as file_:\n",
    "    lines = file_.readlines()\n",
    "    print('Assigning {:,} spaCy vectors'.format(len(lines)))\n",
    "    for line in tqdm.tqdm(lines, leave=False):\n",
    "      pieces = line.split(' ')\n",
    "      word = pieces[0]\n",
    "      vector = numpy.asarray([float(v) for v in pieces[1:]], dtype='f')\n",
    "      nlp.vocab.set_vector(word, vector)\n",
    "  print('Saving spaCy vector model: {}'.format(out_loc))\n",
    "  nlp.to_disk(out_loc)\n",
    "  print('Done.')\n",
    "\n",
    "main(\"models/glove.6B.300d.txt\", \"models/glove6B300d\", 'en')\n",
    "\n"
   ]
  },
  {
   "cell_type": "code",
   "execution_count": 3,
   "metadata": {},
   "outputs": [],
   "source": []
  },
  {
   "cell_type": "code",
   "execution_count": 7,
   "metadata": {},
   "outputs": [],
   "source": [
    "nlp2 = spacy.load(\"models/glove6B300d\")"
   ]
  },
  {
   "cell_type": "code",
   "execution_count": 9,
   "metadata": {},
   "outputs": [
    {
     "name": "stdout",
     "output_type": "stream",
     "text": [
      "Top 20 most similar words to with :\n"
     ]
    },
    {
     "data": {
      "text/plain": [
       "['all',\n",
       " 'that',\n",
       " 'so',\n",
       " 'they',\n",
       " 'when',\n",
       " 'there',\n",
       " 'are',\n",
       " 'not',\n",
       " 'the',\n",
       " 'a',\n",
       " 'good',\n",
       " 'it',\n",
       " 'have',\n",
       " 'had',\n",
       " 'were',\n",
       " 'is',\n",
       " 'has',\n",
       " 'any',\n",
       " 'he',\n",
       " 'would']"
      ]
     },
     "execution_count": 9,
     "metadata": {},
     "output_type": "execute_result"
    }
   ],
   "source": [
    "word2 = nlp2.vocab[u'with']\n",
    "\n",
    "comparison_functions.similar_strings(nlp2,word2)"
   ]
  },
  {
   "cell_type": "code",
   "execution_count": 12,
   "metadata": {},
   "outputs": [
    {
     "name": "stdout",
     "output_type": "stream",
     "text": [
      "dog True 6.673079 True\n",
      "cat True 6.326409 True\n",
      "banana True 6.560879 True\n",
      "afskfsd False 0.0 True\n"
     ]
    }
   ],
   "source": [
    "tokens = nlp2(u'dog cat banana afskfsd')\n",
    "\n",
    "#commonality of word \n",
    "for token in tokens:\n",
    "    print(token.text, token.has_vector, token.vector_norm, token.is_oov)"
   ]
  },
  {
   "cell_type": "code",
   "execution_count": null,
   "metadata": {},
   "outputs": [],
   "source": [
    "tokens = nlp2(u'dog cat banana apple')\n",
    "\n",
    "#word similarity\n",
    "for token1 in tokens:\n",
    "    for token2 in tokens:\n",
    "        print(token1.text, token2.text, token1.similarity(token2))"
   ]
  },
  {
   "cell_type": "code",
   "execution_count": null,
   "metadata": {},
   "outputs": [],
   "source": [
    "doc1 = nlp2(u\"illegals undocumented refugees immigrants foreigners\")\n",
    "doc2 = nlp2(u\"sneaky deceitful mean rude careless\")\n",
    "Citizen = nlp2(u'citizens inhabitants locals natives residents')\n",
    "Good = nlp2(u'sincere honest trustworthy share nice')\n",
    "print(\"Noncitizen & Good:\", doc1.similarity(Good))\n",
    "print(\"Noncitizen & Bad:\", doc1.similarity(doc2))\n",
    "print(\"Citizen & Good:\", Citizen.similarity(Good))\n",
    "print(\"Citizen & Bad:\", Citizen.similarity(doc2))\n"
   ]
  },
  {
   "cell_type": "code",
   "execution_count": null,
   "metadata": {},
   "outputs": [],
   "source": []
  },
  {
   "cell_type": "code",
   "execution_count": null,
   "metadata": {},
   "outputs": [],
   "source": [
    "Noncitizen = (u'illegals undocumented refugees immigrants foreigners') #list of strings = input at present\n",
    "Citizen = (u'citizens inhabitants locals natives residents')\n",
    "Good = (u'sincere honest trustworthy share nice')\n",
    "Bad = (u'sneaky deceitful mean rude careless')"
   ]
  },
  {
   "cell_type": "code",
   "execution_count": null,
   "metadata": {},
   "outputs": [],
   "source": [
    "results_citizen_good2 = comparison_functions.compare_wordlists_by_spacy_vectors(nlp2, Citizen, Good)\n",
    "results_citizen_bad2 = comparison_functions.compare_wordlists_by_spacy_vectors(nlp2, Citizen, Bad)\n",
    "\n",
    "results_noncitizen_good2 = comparison_functions.compare_wordlists_by_spacy_vectors(nlp2, Noncitizen, Good)\n",
    "results_noncitizen_bad2 = comparison_functions.compare_wordlists_by_spacy_vectors(nlp2, Noncitizen, Bad)\n",
    "\n",
    "results_within_citizen2 = comparison_functions.compare_wordlists_by_spacy_vectors(nlp2, Citizen)\n",
    "results_within_noncitizen2 = comparison_functions.compare_wordlists_by_spacy_vectors(nlp2, Noncitizen)"
   ]
  },
  {
   "cell_type": "code",
   "execution_count": null,
   "metadata": {},
   "outputs": [],
   "source": [
    "df = pd.DataFrame(results_citizen_good2)\n",
    "df"
   ]
  },
  {
   "cell_type": "code",
   "execution_count": null,
   "metadata": {},
   "outputs": [],
   "source": [
    "cohens_d_Citizen_Noncitizen2 = effect_sizes.cohens_d(results_citizen_good2, results_citizen_bad2, results_noncitizen_good2, results_noncitizen_bad2)"
   ]
  },
  {
   "cell_type": "code",
   "execution_count": null,
   "metadata": {},
   "outputs": [],
   "source": []
  },
  {
   "cell_type": "code",
   "execution_count": null,
   "metadata": {},
   "outputs": [],
   "source": [
    "#word vector similarities using spaCy models\n",
    "\n",
    "parser = spacy.load('en_core_web_lg')\n",
    "word = parser.vocab[u'illegals']\n",
    "\n",
    "comparison_functions.Similar_strings(parser,word)"
   ]
  },
  {
   "cell_type": "code",
   "execution_count": null,
   "metadata": {},
   "outputs": [],
   "source": [
    "#word pair similarities using spaCy models\n",
    "\n",
    "nlp = spacy.load('en_core_web_lg')\n",
    "Noncitizen = (u'illegals undocumented refugees immigrants foreigners') #list of strings = input at present\n",
    "Citizen = (u'citizens inhabitants locals natives residents')\n",
    "Good = (u'sincere honest trustworthy share nice')\n",
    "Bad = (u'sneaky deceitful mean rude careless')\n"
   ]
  },
  {
   "cell_type": "code",
   "execution_count": null,
   "metadata": {},
   "outputs": [],
   "source": [
    "results_citizen_good = comparison_functions.compare_wordlists_by_spacy_vectors(nlp, Citizen, Good)\n",
    "results_citizen_bad = comparison_functions.compare_wordlists_by_spacy_vectors(nlp, Citizen, Bad)\n",
    "\n",
    "results_noncitizen_good = comparison_functions.compare_wordlists_by_spacy_vectors(nlp, Noncitizen, Good)\n",
    "results_noncitizen_bad = comparison_functions.compare_wordlists_by_spacy_vectors(nlp, Noncitizen, Bad)\n",
    "\n",
    "results_within_citizen = comparison_functions.compare_within_wordlist_by_spacy_vectors(nlp, Citizen)\n",
    "results_within_noncitizen = comparison_functions.compare_within_wordlist_by_spacy_vectors(nlp, Noncitizen)"
   ]
  },
  {
   "cell_type": "code",
   "execution_count": null,
   "metadata": {},
   "outputs": [],
   "source": [
    "df = pd.DataFrame(results_citizen_good)\n",
    "df"
   ]
  },
  {
   "cell_type": "code",
   "execution_count": null,
   "metadata": {},
   "outputs": [],
   "source": [
    "df.loc[:,2].mean()"
   ]
  },
  {
   "cell_type": "code",
   "execution_count": null,
   "metadata": {},
   "outputs": [],
   "source": [
    "mean_diff_Citizen_Noncitizen = effect_sizes.diff_of_means(results_citizen_good, results_citizen_bad, results_noncitizen_good, results_noncitizen_bad)"
   ]
  },
  {
   "cell_type": "code",
   "execution_count": null,
   "metadata": {},
   "outputs": [],
   "source": [
    "cohens_d_Citizen_Noncitizen = effect_sizes.cohens_d(results_citizen_good, results_citizen_bad, results_noncitizen_good, results_noncitizen_bad)"
   ]
  },
  {
   "cell_type": "code",
   "execution_count": null,
   "metadata": {},
   "outputs": [],
   "source": []
  },
  {
   "cell_type": "code",
   "execution_count": null,
   "metadata": {},
   "outputs": [],
   "source": []
  },
  {
   "cell_type": "code",
   "execution_count": null,
   "metadata": {},
   "outputs": [],
   "source": [
    "##def load_glove_model(glove_file):\n",
    "##    print(\"Loading Glove Model\")\n",
    "##    f = open(glove_file, 'r', errors = 'ignore', encoding='utf8')\n",
    "##    model = {}\n",
    "##    vector_size = 300\n",
    "##    for line in f:\n",
    "##        split_line = line.split()\n",
    "##        word = \" \".join(split_line[0:len(split_line) - vector_size])\n",
    "##        embedding = np.array([float(val) for val in split_line[-vector_size:]])\n",
    "##        model[word] = embedding\n",
    "##    print(\"Done.\\n\" + str(len(model)) + \" words loaded!\")\n",
    "##    return model\n",
    "##\n",
    "##\n",
    "##glove = load_glove_model(\"models/glove.6B.300d.txt\")\n",
    "\n",
    "#works on models/glove.6B.300d.txt\n",
    "#print(glove[\"hello\", \"goodbye\"])\n"
   ]
  },
  {
   "cell_type": "code",
   "execution_count": null,
   "metadata": {},
   "outputs": [],
   "source": [
    "\n"
   ]
  },
  {
   "cell_type": "code",
   "execution_count": null,
   "metadata": {},
   "outputs": [],
   "source": [
    "##from gensim.scripts.glove2word2vec import glove2word2vec\n",
    "##glove2word2vec(glove_input_file=\"models/glove.6B.300d.txt\", word2vec_output_file=\"gensim_glove6B300d_vectors.txt\")"
   ]
  },
  {
   "cell_type": "code",
   "execution_count": null,
   "metadata": {},
   "outputs": [],
   "source": [
    "##from gensim.models.keyedvectors import KeyedVectors\n",
    "##glove_model = KeyedVectors.load_word2vec_format(\"gensim_glove6B300d_vectors.txt\", binary=False)"
   ]
  },
  {
   "cell_type": "code",
   "execution_count": null,
   "metadata": {},
   "outputs": [],
   "source": []
  },
  {
   "cell_type": "code",
   "execution_count": null,
   "metadata": {},
   "outputs": [],
   "source": []
  },
  {
   "cell_type": "code",
   "execution_count": null,
   "metadata": {},
   "outputs": [],
   "source": []
  },
  {
   "cell_type": "code",
   "execution_count": null,
   "metadata": {},
   "outputs": [],
   "source": [
    "##def diff_of_means(wordlist1, wordlist2, wordlist3, wordlist4):\n",
    "##    df1 = pd.DataFrame(wordlist1)\n",
    "##    df2 = pd.DataFrame(wordlist2)\n",
    "##    df3 = pd.DataFrame(wordlist3)\n",
    "##    df4 = pd.DataFrame(wordlist4)\n",
    "##    a1 = df1.loc[:,2].mean()\n",
    "##    a2 = df2.loc[:,2].mean()\n",
    "##    b1 = df3.loc[:,2].mean()\n",
    "##    b2 = df4.loc[:,2].mean()\n",
    "##    d1= (np.add(a1,a2))/2\n",
    "##    d2= (np.add(b1,b2))/2\n",
    "##    d3= np.subtract(d1,d2)\n",
    "##    print(\"Group 1:\",a1, a2)\n",
    "##    print(\"Group 2:\",b1, b2)\n",
    "##    print(\"The average similarity for group 1 is\", d1)\n",
    "##    print(\"The average similarity for group 2 is\", d2)\n",
    "##    print(\"The difference of the means is\", d3)  \n",
    "##\n",
    "##def cohens_d (wordlist1, wordlist2, wordlist3, wordlist4):\n",
    "##    df1 = pd.DataFrame(wordlist1)\n",
    "##    df2 = pd.DataFrame(wordlist2)\n",
    "##    df3 = pd.DataFrame(wordlist3)\n",
    "##    df4 = pd.DataFrame(wordlist4)\n",
    "##    a1 = df1.loc[:,2].mean()\n",
    "##    a2 = df2.loc[:,2].mean()\n",
    "##    a3 = pd.concat([df1,df2])\n",
    "##    b1 = df3.loc[:,2].mean()\n",
    "##    b2 = df4.loc[:,2].mean()\n",
    "##    b3 = pd.concat([df3,df4])\n",
    "##    # calculate the mean similarity of the samples\n",
    "##    #d1= (np.add(a1,a2))/2\n",
    "##    #d2= (np.add(b1,b2))/2\n",
    "##    d4 = a3.loc[:,2].mean()\n",
    "##    d5 = b3.loc[:,2].mean()\n",
    "##    # calculate the difference of the means\n",
    "##    d3= np.subtract(d4,d5)\n",
    "##    # calculate the pooled standard deviation\n",
    "##    s = sqrt((np.std(a3.loc[:,2]) ** 2 + np.std(b3.loc[:,2]) ** 2) / 2)\n",
    "##    #calculate cohen's d\n",
    "##    cohen_d = d3 / s\n",
    "##    #return cohen_d\n",
    "##    print(\"Group 1 similarity scores are\", (a1, a2))\n",
    "##    print(\"Group 2 similarity scores are\", (b1, b2))\n",
    "##    print(\"The global mean similarity score for Group 1 is\", d4)\n",
    "##    print(\"The global mean similarity score for Group 2 is\", d5)\n",
    "##    print(\"The difference of the means is\", d3) \n",
    "##    #print(b3)\n",
    "##    print(\"Cohen's D is\", cohen_d)\n",
    "##\n",
    "##diff_of_means(results_citizen_good, results_citizen_bad, results_noncitizen_good, results_noncitizen_bad)    \n",
    "##cohens_d(results_citizen_good, results_citizen_bad, results_noncitizen_good, results_noncitizen_bad)\n",
    "    "
   ]
  },
  {
   "cell_type": "code",
   "execution_count": 13,
   "metadata": {},
   "outputs": [],
   "source": [
    "nlp = spacy.load(\"en_core_web_lg\")"
   ]
  },
  {
   "cell_type": "code",
   "execution_count": 14,
   "metadata": {},
   "outputs": [],
   "source": [
    "text = u\"\"\"If discriminant validity is not established, then latent constructs are having an influence on the variation of more than just the observed variables to which they are theoretically related.\"\"\"\n",
    "doc=nlp(text)"
   ]
  },
  {
   "cell_type": "code",
   "execution_count": 15,
   "metadata": {},
   "outputs": [
    {
     "name": "stdout",
     "output_type": "stream",
     "text": [
      "If ADP mark Xx True True\n",
      "discriminant ADJ compound xxxx True False\n",
      "validity NOUN nsubjpass xxxx True False\n",
      "is VERB auxpass xx True True\n",
      "not ADV neg xxx True True\n",
      "established VERB advcl xxxx True False\n",
      ", PUNCT punct , False False\n",
      "then ADV advmod xxxx True True\n",
      "latent ADJ amod xxxx True False\n",
      "constructs NOUN nsubj xxxx True False\n",
      "are VERB aux xxx True True\n",
      "having VERB ROOT xxxx True False\n",
      "an DET det xx True True\n",
      "influence NOUN dobj xxxx True False\n",
      "on ADP prep xx True True\n",
      "the DET det xxx True True\n",
      "variation NOUN pobj xxxx True False\n",
      "of ADP prep xx True True\n",
      "more ADJ pobj xxxx True True\n",
      "than ADP prep xxxx True True\n",
      "just ADV advmod xxxx True True\n",
      "the DET det xxx True True\n",
      "observed ADJ amod xxxx True False\n",
      "variables NOUN pobj xxxx True False\n",
      "to PART prep xx True True\n",
      "which DET pobj xxxx True True\n",
      "they PRON nsubj xxxx True True\n",
      "are VERB relcl xxx True True\n",
      "theoretically ADV advmod xxxx True False\n",
      "related ADJ acomp xxxx True False\n",
      ". PUNCT punct . False False\n"
     ]
    }
   ],
   "source": [
    "for token in doc:\n",
    "    print(token.text, token.pos_, token.dep_, token.shape_, token.is_alpha, token.is_stop)"
   ]
  },
  {
   "cell_type": "code",
   "execution_count": 16,
   "metadata": {},
   "outputs": [],
   "source": [
    "from spacy import displacy\n",
    "\n"
   ]
  },
  {
   "cell_type": "code",
   "execution_count": 17,
   "metadata": {},
   "outputs": [
    {
     "data": {
      "text/html": [
       "<svg xmlns=\"http://www.w3.org/2000/svg\" xmlns:xlink=\"http://www.w3.org/1999/xlink\" xml:lang=\"en\" id=\"9e634a26c36b45b8b5e192ccc6c54c19-0\" class=\"displacy\" width=\"850\" height=\"337.0\" direction=\"ltr\" style=\"max-width: none; height: 337.0px; color: #000000; background: #ffffff; font-family: Arial; direction: ltr\">\n",
       "<text class=\"displacy-token\" fill=\"currentColor\" text-anchor=\"middle\" y=\"247.0\">\n",
       "    <tspan class=\"displacy-word\" fill=\"currentColor\" x=\"50\">Rats</tspan>\n",
       "    <tspan class=\"displacy-tag\" dy=\"2em\" fill=\"currentColor\" x=\"50\">NOUN</tspan>\n",
       "</text>\n",
       "\n",
       "<text class=\"displacy-token\" fill=\"currentColor\" text-anchor=\"middle\" y=\"247.0\">\n",
       "    <tspan class=\"displacy-word\" fill=\"currentColor\" x=\"150\">are</tspan>\n",
       "    <tspan class=\"displacy-tag\" dy=\"2em\" fill=\"currentColor\" x=\"150\">VERB</tspan>\n",
       "</text>\n",
       "\n",
       "<text class=\"displacy-token\" fill=\"currentColor\" text-anchor=\"middle\" y=\"247.0\">\n",
       "    <tspan class=\"displacy-word\" fill=\"currentColor\" x=\"250\">various</tspan>\n",
       "    <tspan class=\"displacy-tag\" dy=\"2em\" fill=\"currentColor\" x=\"250\">ADJ</tspan>\n",
       "</text>\n",
       "\n",
       "<text class=\"displacy-token\" fill=\"currentColor\" text-anchor=\"middle\" y=\"247.0\">\n",
       "    <tspan class=\"displacy-word\" fill=\"currentColor\" x=\"350\">medium-</tspan>\n",
       "    <tspan class=\"displacy-tag\" dy=\"2em\" fill=\"currentColor\" x=\"350\">NOUN</tspan>\n",
       "</text>\n",
       "\n",
       "<text class=\"displacy-token\" fill=\"currentColor\" text-anchor=\"middle\" y=\"247.0\">\n",
       "    <tspan class=\"displacy-word\" fill=\"currentColor\" x=\"450\">sized,</tspan>\n",
       "    <tspan class=\"displacy-tag\" dy=\"2em\" fill=\"currentColor\" x=\"450\">ADJ</tspan>\n",
       "</text>\n",
       "\n",
       "<text class=\"displacy-token\" fill=\"currentColor\" text-anchor=\"middle\" y=\"247.0\">\n",
       "    <tspan class=\"displacy-word\" fill=\"currentColor\" x=\"550\">long-</tspan>\n",
       "    <tspan class=\"displacy-tag\" dy=\"2em\" fill=\"currentColor\" x=\"550\">ADJ</tspan>\n",
       "</text>\n",
       "\n",
       "<text class=\"displacy-token\" fill=\"currentColor\" text-anchor=\"middle\" y=\"247.0\">\n",
       "    <tspan class=\"displacy-word\" fill=\"currentColor\" x=\"650\">tailed</tspan>\n",
       "    <tspan class=\"displacy-tag\" dy=\"2em\" fill=\"currentColor\" x=\"650\">VERB</tspan>\n",
       "</text>\n",
       "\n",
       "<text class=\"displacy-token\" fill=\"currentColor\" text-anchor=\"middle\" y=\"247.0\">\n",
       "    <tspan class=\"displacy-word\" fill=\"currentColor\" x=\"750\">rodents.</tspan>\n",
       "    <tspan class=\"displacy-tag\" dy=\"2em\" fill=\"currentColor\" x=\"750\">NOUN</tspan>\n",
       "</text>\n",
       "\n",
       "<g class=\"displacy-arrow\">\n",
       "    <path class=\"displacy-arc\" id=\"arrow-9e634a26c36b45b8b5e192ccc6c54c19-0-0\" stroke-width=\"2px\" d=\"M70,202.0 C70,152.0 135.0,152.0 135.0,202.0\" fill=\"none\" stroke=\"currentColor\"/>\n",
       "    <text dy=\"1.25em\" style=\"font-size: 0.8em; letter-spacing: 1px\">\n",
       "        <textPath xlink:href=\"#arrow-9e634a26c36b45b8b5e192ccc6c54c19-0-0\" class=\"displacy-label\" startOffset=\"50%\" side=\"left\" fill=\"currentColor\" text-anchor=\"middle\">nsubj</textPath>\n",
       "    </text>\n",
       "    <path class=\"displacy-arrowhead\" d=\"M70,204.0 L62,192.0 78,192.0\" fill=\"currentColor\"/>\n",
       "</g>\n",
       "\n",
       "<g class=\"displacy-arrow\">\n",
       "    <path class=\"displacy-arc\" id=\"arrow-9e634a26c36b45b8b5e192ccc6c54c19-0-1\" stroke-width=\"2px\" d=\"M270,202.0 C270,52.0 745.0,52.0 745.0,202.0\" fill=\"none\" stroke=\"currentColor\"/>\n",
       "    <text dy=\"1.25em\" style=\"font-size: 0.8em; letter-spacing: 1px\">\n",
       "        <textPath xlink:href=\"#arrow-9e634a26c36b45b8b5e192ccc6c54c19-0-1\" class=\"displacy-label\" startOffset=\"50%\" side=\"left\" fill=\"currentColor\" text-anchor=\"middle\">amod</textPath>\n",
       "    </text>\n",
       "    <path class=\"displacy-arrowhead\" d=\"M270,204.0 L262,192.0 278,192.0\" fill=\"currentColor\"/>\n",
       "</g>\n",
       "\n",
       "<g class=\"displacy-arrow\">\n",
       "    <path class=\"displacy-arc\" id=\"arrow-9e634a26c36b45b8b5e192ccc6c54c19-0-2\" stroke-width=\"2px\" d=\"M370,202.0 C370,152.0 435.0,152.0 435.0,202.0\" fill=\"none\" stroke=\"currentColor\"/>\n",
       "    <text dy=\"1.25em\" style=\"font-size: 0.8em; letter-spacing: 1px\">\n",
       "        <textPath xlink:href=\"#arrow-9e634a26c36b45b8b5e192ccc6c54c19-0-2\" class=\"displacy-label\" startOffset=\"50%\" side=\"left\" fill=\"currentColor\" text-anchor=\"middle\">amod</textPath>\n",
       "    </text>\n",
       "    <path class=\"displacy-arrowhead\" d=\"M370,204.0 L362,192.0 378,192.0\" fill=\"currentColor\"/>\n",
       "</g>\n",
       "\n",
       "<g class=\"displacy-arrow\">\n",
       "    <path class=\"displacy-arc\" id=\"arrow-9e634a26c36b45b8b5e192ccc6c54c19-0-3\" stroke-width=\"2px\" d=\"M470,202.0 C470,102.0 740.0,102.0 740.0,202.0\" fill=\"none\" stroke=\"currentColor\"/>\n",
       "    <text dy=\"1.25em\" style=\"font-size: 0.8em; letter-spacing: 1px\">\n",
       "        <textPath xlink:href=\"#arrow-9e634a26c36b45b8b5e192ccc6c54c19-0-3\" class=\"displacy-label\" startOffset=\"50%\" side=\"left\" fill=\"currentColor\" text-anchor=\"middle\">amod</textPath>\n",
       "    </text>\n",
       "    <path class=\"displacy-arrowhead\" d=\"M470,204.0 L462,192.0 478,192.0\" fill=\"currentColor\"/>\n",
       "</g>\n",
       "\n",
       "<g class=\"displacy-arrow\">\n",
       "    <path class=\"displacy-arc\" id=\"arrow-9e634a26c36b45b8b5e192ccc6c54c19-0-4\" stroke-width=\"2px\" d=\"M570,202.0 C570,152.0 635.0,152.0 635.0,202.0\" fill=\"none\" stroke=\"currentColor\"/>\n",
       "    <text dy=\"1.25em\" style=\"font-size: 0.8em; letter-spacing: 1px\">\n",
       "        <textPath xlink:href=\"#arrow-9e634a26c36b45b8b5e192ccc6c54c19-0-4\" class=\"displacy-label\" startOffset=\"50%\" side=\"left\" fill=\"currentColor\" text-anchor=\"middle\">amod</textPath>\n",
       "    </text>\n",
       "    <path class=\"displacy-arrowhead\" d=\"M570,204.0 L562,192.0 578,192.0\" fill=\"currentColor\"/>\n",
       "</g>\n",
       "\n",
       "<g class=\"displacy-arrow\">\n",
       "    <path class=\"displacy-arc\" id=\"arrow-9e634a26c36b45b8b5e192ccc6c54c19-0-5\" stroke-width=\"2px\" d=\"M670,202.0 C670,152.0 735.0,152.0 735.0,202.0\" fill=\"none\" stroke=\"currentColor\"/>\n",
       "    <text dy=\"1.25em\" style=\"font-size: 0.8em; letter-spacing: 1px\">\n",
       "        <textPath xlink:href=\"#arrow-9e634a26c36b45b8b5e192ccc6c54c19-0-5\" class=\"displacy-label\" startOffset=\"50%\" side=\"left\" fill=\"currentColor\" text-anchor=\"middle\">amod</textPath>\n",
       "    </text>\n",
       "    <path class=\"displacy-arrowhead\" d=\"M670,204.0 L662,192.0 678,192.0\" fill=\"currentColor\"/>\n",
       "</g>\n",
       "\n",
       "<g class=\"displacy-arrow\">\n",
       "    <path class=\"displacy-arc\" id=\"arrow-9e634a26c36b45b8b5e192ccc6c54c19-0-6\" stroke-width=\"2px\" d=\"M170,202.0 C170,2.0 750.0,2.0 750.0,202.0\" fill=\"none\" stroke=\"currentColor\"/>\n",
       "    <text dy=\"1.25em\" style=\"font-size: 0.8em; letter-spacing: 1px\">\n",
       "        <textPath xlink:href=\"#arrow-9e634a26c36b45b8b5e192ccc6c54c19-0-6\" class=\"displacy-label\" startOffset=\"50%\" side=\"left\" fill=\"currentColor\" text-anchor=\"middle\">attr</textPath>\n",
       "    </text>\n",
       "    <path class=\"displacy-arrowhead\" d=\"M750.0,204.0 L758.0,192.0 742.0,192.0\" fill=\"currentColor\"/>\n",
       "</g>\n",
       "</svg>"
      ],
      "text/plain": [
       "<IPython.core.display.HTML object>"
      ]
     },
     "metadata": {},
     "output_type": "display_data"
    }
   ],
   "source": [
    "doc2 = nlp(u\"Rats are various medium-sized, long-tailed rodents.\")\n",
    "displacy.render(doc2, style=\"dep\", jupyter=True, options={'distance': 100})\n"
   ]
  },
  {
   "cell_type": "code",
   "execution_count": 18,
   "metadata": {},
   "outputs": [],
   "source": [
    "\n",
    "doc2\n",
    "for ent in doc.ents:\n",
    "    print(ent.text, ent.start_char, ent.end_char, ent.label_)\n"
   ]
  },
  {
   "cell_type": "code",
   "execution_count": 19,
   "metadata": {},
   "outputs": [
    {
     "name": "stderr",
     "output_type": "stream",
     "text": [
      "/Users/karie.moorman/anaconda/lib/python3.6/runpy.py:193: UserWarning: [W006] No entities to visualize found in Doc object. If this is surprising to you, make sure the Doc was processed using a model that supports named entity recognition, and check the `doc.ents` property manually if necessary.\n",
      "  \"__main__\", mod_spec)\n"
     ]
    },
    {
     "data": {
      "text/html": [
       "<div class=\"entities\" style=\"line-height: 2.5; direction: ltr\">Rats are various medium-sized, long-tailed rodents.</div>"
      ],
      "text/plain": [
       "<IPython.core.display.HTML object>"
      ]
     },
     "metadata": {},
     "output_type": "display_data"
    }
   ],
   "source": [
    "nlp2 = spacy.load(\"en_core_web_sm\")\n",
    "\n",
    "displacy.render(doc2, style=\"ent\", jupyter=True)"
   ]
  },
  {
   "cell_type": "code",
   "execution_count": 21,
   "metadata": {},
   "outputs": [
    {
     "data": {
      "text/html": [
       "<div class=\"entities\" style=\"line-height: 2.5; direction: ltr\">This is a sentence about \n",
       "<mark class=\"entity\" style=\"background: #7aecec; padding: 0.45em 0.6em; margin: 0 0.25em; line-height: 1; border-radius: 0.35em; box-decoration-break: clone; -webkit-box-decoration-break: clone\">\n",
       "    Google\n",
       "    <span style=\"font-size: 0.8em; font-weight: bold; line-height: 1; border-radius: 0.35em; text-transform: uppercase; vertical-align: middle; margin-left: 0.5rem\">ORG</span>\n",
       "</mark>\n",
       ".</div>"
      ],
      "text/plain": [
       "<IPython.core.display.HTML object>"
      ]
     },
     "metadata": {},
     "output_type": "display_data"
    }
   ],
   "source": [
    "from spacy import displacy\n",
    "doc = nlp2(u\"This is a sentence about Google.\")\n",
    "#displacy.serve(doc, style=\"dep\") # run the web server\n",
    "displacy.render(doc, style=\"ent\", jupyter=True) # generate HTML"
   ]
  },
  {
   "cell_type": "code",
   "execution_count": null,
   "metadata": {},
   "outputs": [],
   "source": []
  },
  {
   "cell_type": "code",
   "execution_count": null,
   "metadata": {},
   "outputs": [],
   "source": [
    "#import sent2tree\n",
    "\n",
    "\n",
    "#st = sent2tree.sentenceTree(doc)\n",
    "#t, ts = st.render()\n",
    "#t.render('%%inline', tree_style=ts)"
   ]
  },
  {
   "cell_type": "code",
   "execution_count": null,
   "metadata": {},
   "outputs": [],
   "source": []
  }
 ],
 "metadata": {
  "kernelspec": {
   "display_name": "Python 3",
   "language": "python",
   "name": "python3"
  },
  "language_info": {
   "codemirror_mode": {
    "name": "ipython",
    "version": 3
   },
   "file_extension": ".py",
   "mimetype": "text/x-python",
   "name": "python",
   "nbconvert_exporter": "python",
   "pygments_lexer": "ipython3",
   "version": "3.6.8"
  }
 },
 "nbformat": 4,
 "nbformat_minor": 2
}
